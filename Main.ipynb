{
 "cells": [
  {
   "cell_type": "code",
   "execution_count": null,
   "id": "43172018-33df-47c4-a511-fb2f981bc763",
   "metadata": {},
   "outputs": [],
   "source": [
    "from helpers import *\n",
    "from model import CharRNN\n",
    "from generate import *\n",
    "from collections import defaultdict, Counter\n",
    "from surprisal import compute_word_surprisal\n",
    "from itertools import product\n",
    "from train import run_char_rnn\n",
    "#from ngram import \n",
    "import json\n",
    "import math\n",
    "import matplotlib.pyplot as plt\n",
    "import numpy as np\n",
    "import requests\n",
    "import re\n",
    "import random"
   ]
  },
  {
   "cell_type": "code",
   "execution_count": null,
   "id": "df274136-4e58-4859-bf1e-ef333e911f75",
   "metadata": {},
   "outputs": [],
   "source": [
    "book_info = {}\n",
    "urls = ['https://www.gutenberg.org/ebooks/863', \n",
    "        'https://www.gutenberg.org/ebooks/69087', \n",
    "        'https://www.gutenberg.org/ebooks/61262', \n",
    "        'https://www.gutenberg.org/ebooks/1155', \n",
    "        'https://www.gutenberg.org/ebooks/58866',\n",
    "        'https://www.gutenberg.org/ebooks/72824',\n",
    "        'https://www.gutenberg.org/ebooks/72824',\n",
    "        'https://www.gutenberg.org/ebooks/61168',\n",
    "        'https://www.gutenberg.org/ebooks/66446',\n",
    "        'https://www.gutenberg.org/ebooks/67173',\n",
    "        'https://www.gutenberg.org/ebooks/67160',\n",
    "        'https://www.gutenberg.org/ebooks/65238']"
   ]
  },
  {
   "cell_type": "code",
   "execution_count": null,
   "id": "876d6293-7b22-454b-8b97-20043fdebd70",
   "metadata": {},
   "outputs": [],
   "source": [
    "def get_ids(urls):\n",
    "    for url in urls:\n",
    "        book_info[url] = []\n",
    "        book_id = url.split('/')[-1]\n",
    "        book_info[url].append(book_id)\n",
    "        book_info[url].append(f\"{book_id}.txt\")"
   ]
  },
  {
   "cell_type": "code",
   "execution_count": null,
   "id": "cec87867-7292-439c-9c4d-05da80239ec8",
   "metadata": {},
   "outputs": [],
   "source": [
    "get_ids(urls)\n",
    "book_info"
   ]
  },
  {
   "cell_type": "code",
   "execution_count": null,
   "id": "9fcc24ca-5430-4596-9156-e61c45dca2c5",
   "metadata": {},
   "outputs": [],
   "source": [
    "def file_name(text):\n",
    "    title = re.sub(r'[<>:\"/\\\\|?*]', '', text)\n",
    "    title = title.strip()\n",
    "    title = title.replace(\" \", \"_\")\n",
    "    return title"
   ]
  },
  {
   "cell_type": "code",
   "execution_count": null,
   "id": "08798d60-7d6f-4882-9e25-73817a6856c6",
   "metadata": {},
   "outputs": [],
   "source": [
    "def download_gutenberg_text():\n",
    "    for y, x in book_info.items():\n",
    "        book_id, save_path = x\n",
    "        url = f\"https://www.gutenberg.org/cache/epub/{book_id}/pg{book_id}.txt\"\n",
    "        try:\n",
    "            response = requests.get(url)\n",
    "            response.raise_for_status()\n",
    "            first_line = response.text.splitlines()[0].strip()\n",
    "            if \"eBook of \" in first_line:\n",
    "                title = first_line.split(\"eBook of \")[1]\n",
    "            else:\n",
    "                title = first_line\n",
    "            title = file_name(title)\n",
    "            save_path = f\"{title}.txt\"\n",
    "            book_info[y][1] = save_path\n",
    "            with open(save_path, 'w', encoding='utf-8') as file:\n",
    "                file.write(response.text)\n",
    "            print(f\"Text successfully downloaded and saved to {save_path}\")\n",
    "        except requests.exceptions.RequestException as e:\n",
    "            print(f\"Failed to download text for book ID {book_id}: {e}\")"
   ]
  },
  {
   "cell_type": "code",
   "execution_count": null,
   "id": "feb2e11f-621a-497e-8587-8a41d5246f83",
   "metadata": {},
   "outputs": [],
   "source": [
    "download_gutenberg_text()"
   ]
  },
  {
   "cell_type": "code",
   "execution_count": null,
   "id": "f21e51e0-1524-4263-84c5-bd688bcd2112",
   "metadata": {},
   "outputs": [],
   "source": [
    "import glob\n",
    "input_dir = \"/christie\" \n",
    "\n",
    "output_file = \"christie.txt\"\n",
    "\n",
    "txt_files = glob.glob(f\"{input_dir}/*.txt\")\n",
    "\n",
    "with open(output_file, \"w\") as outfile:\n",
    "    for file in txt_files:\n",
    "        with open(file, \"r\") as infile:\n",
    "            outfile.write(infile.read())\n",
    "            outfile.write(\"\\n\") "
   ]
  },
  {
   "cell_type": "code",
   "execution_count": null,
   "id": "e4c857cc-c6d2-43fa-bd34-518754004e64",
   "metadata": {},
   "outputs": [],
   "source": [
    "from ngram_model import ngram_pipeline\n",
    "\n",
    "file_path = \"shakespeare.txt\"  \n",
    "ngram = ngram_pipeline(file_path, seed=\"Where\", n=3, length=100, val_split=0.8)\n",
    "\n",
    "# Access the results\n",
    "print(f\"Validation Loss (N-Gram): {ngram['validation_loss']}\")\n",
    "print(f\"Validation Perplexity: {ngram['validation_perplexity']}\")\n",
    "print(\"Generated Text:\")\n",
    "print(ngram['generated_text'])"
   ]
  },
  {
   "cell_type": "code",
   "execution_count": null,
   "id": "6595c68f-3cf7-467e-831e-470616fdbeb3",
   "metadata": {},
   "outputs": [],
   "source": [
    "hyperparams = {\n",
    "    \"model_types\": [\"gru\"], \n",
    "    \"hidden_sizes\": [128, 512],\n",
    "    \"n_layers\": [2, 3],\n",
    "    \"learning_rates\": [0.001, 0.01],\n",
    "    \"shuffle\": [True, False], \n",
    "    \"n_epochs\": [1000, 2000],\n",
    "    \"chunk_len\": [200],\n",
    "    \"batch_size\": [100],\n",
    "    \"print_every\": [100]\n",
    "}\n",
    "\n",
    "# Generate all combinations of hyperparameters\n",
    "keys, values = zip(*hyperparams.items())\n",
    "hyperparam_combinations = [dict(zip(keys, v)) for v in product(*values)]\n",
    "results = []\n",
    "\n",
    "# Run the model for each combination\n",
    "for combo in hyperparam_combinations:\n",
    "    print(f\"\\nRunning with hyperparameters: {combo}\")\n",
    "    result = run_char_rnn(\n",
    "        filename=\"shakespeare.txt\",\n",
    "        model=combo[\"model_types\"],\n",
    "        n_epochs=combo[\"n_epochs\"],\n",
    "        print_every=combo[\"print_every\"],\n",
    "        hidden_size=combo[\"hidden_sizes\"],\n",
    "        n_layers=combo[\"n_layers\"],\n",
    "        learning_rate=combo[\"learning_rates\"],\n",
    "        chunk_len=combo[\"chunk_len\"],\n",
    "        batch_size=combo[\"batch_size\"],\n",
    "        shuffle=combo[\"shuffle\"],\n",
    "        cuda=True,\n",
    "        validation_split=0.2\n",
    "    )\n",
    "    results.append(result)"
   ]
  },
  {
   "cell_type": "code",
   "execution_count": null,
   "id": "f6e90bef-ba1e-4fe8-906f-8b0b34192b9a",
   "metadata": {},
   "outputs": [],
   "source": [
    "import json\n",
    "\n",
    "with open(\"data.json\", \"r\") as file:\n",
    "    results = json.load(file)"
   ]
  },
  {
   "cell_type": "code",
   "execution_count": null,
   "id": "d14a3d40-9869-48ce-8718-5b9cdcccc1a9",
   "metadata": {},
   "outputs": [],
   "source": [
    "import matplotlib.pyplot as plt\n",
    "import matplotlib.colors as mcolors\n",
    "import numpy as np\n",
    "\n",
    "rainbow_cmap = mcolors.LinearSegmentedColormap.from_list(\"rainbow\", [\"red\", \"orange\", \"yellow\", \"green\", \"blue\", \"indigo\", \"violet\"])\n",
    "num_colors = 32\n",
    "rainbow_colors = [rainbow_cmap(i) for i in np.linspace(0, 1, num_colors)]"
   ]
  },
  {
   "cell_type": "code",
   "execution_count": null,
   "id": "286b5c95-a837-49dd-aa57-ae2d2934ee11",
   "metadata": {},
   "outputs": [],
   "source": [
    "print_every = 100\n",
    "plt.figure(figsize=(10, 6))\n",
    "for i, result in enumerate(results):\n",
    "    train_losses = result['train_losses']\n",
    "    epochs = list(range(1, len(train_losses) + 1))\n",
    "    plt.plot(epochs, train_losses, label=f\"Model {i+1} Train Loss\", color=rainbow_colors[i % num_colors], alpha=0.7)\n",
    "plt.xlabel(\"Epochs\")\n",
    "plt.ylabel(\"Loss\")\n",
    "plt.title(\"Training Losses Over Time for All Models\")\n",
    "plt.legend(bbox_to_anchor=(1.05, 1), loc='upper left') \n",
    "plt.grid(True)\n",
    "plt.tight_layout()\n",
    "plt.savefig(\"Training Losses Over Time for All Models.png\")\n",
    "plt.show()\n",
    "\n",
    "plt.figure(figsize=(10, 6))\n",
    "for i, result in enumerate(results):\n",
    "    val_losses = result['val_losses']\n",
    "    validation_epochs = list(range(print_every, len(result['train_losses']) + 1, print_every))\n",
    "    plt.plot(validation_epochs, val_losses, label=f\"Model {i+1} Val Loss\", color=rainbow_colors[i % num_colors], linestyle='--', alpha=0.7)\n",
    "plt.xlabel(\"Epochs\")\n",
    "plt.ylabel(\"Loss\")\n",
    "plt.title(\"Validation Losses Over Time for All Models\")\n",
    "plt.legend(bbox_to_anchor=(1.05, 1), loc='upper left')  \n",
    "plt.grid(True)\n",
    "plt.tight_layout()\n",
    "plt.savefig(\"Validation Losses Over Time for All Models.png\")\n",
    "plt.show()"
   ]
  },
  {
   "cell_type": "code",
   "execution_count": null,
   "id": "94053aa5-e269-4508-8d6c-60e072c3a0b0",
   "metadata": {},
   "outputs": [],
   "source": [
    "final_train_losses = [dct['final_train_loss'] for dct in results]\n",
    "final_val_losses = [dct['final_val_loss'] for dct in results]\n",
    "\n",
    "plt.figure(figsize=(8, 6))\n",
    "plt.scatter(final_train_losses, final_val_losses, c='blue', alpha=0.7)\n",
    "plt.xlabel(\"Final Train Loss\")\n",
    "plt.ylabel(\"Final Validation Loss\")\n",
    "plt.title(\"Final Train Loss vs Final Validation Loss for All Models\")\n",
    "plt.grid(True)\n",
    "\n",
    "for i, (x, y) in enumerate(zip(final_train_losses, final_val_losses)):\n",
    "    plt.text(x, y, f\"{i+1}\", fontsize=9, ha='right')\n",
    "\n",
    "plt.tight_layout()\n",
    "plt.savefig(\"Final Train Loss vs Final Validation Loss for All Models.png\")\n",
    "plt.show()"
   ]
  },
  {
   "cell_type": "code",
   "execution_count": null,
   "id": "9a7cf726-1d77-4d39-a251-7fef214153c8",
   "metadata": {},
   "outputs": [],
   "source": [
    "results_with_sums = [\n",
    "    {**d, \"sum_loss\": d[\"final_train_loss\"] + d[\"final_val_loss\"]} for d in results\n",
    "]\n",
    "sorted_results = sorted(results_with_sums, key=lambda x: x[\"sum_loss\"])\n",
    "top_8_results_a = sorted_results[:8]\n",
    "top_8_results = [{k: v for k, v in d.items() if k != \"sum_loss\"} for d in top_8_results_a]\n"
   ]
  },
  {
   "cell_type": "code",
   "execution_count": null,
   "id": "64ddcc4f-d127-4100-8e4e-59a7d8c6dbdd",
   "metadata": {},
   "outputs": [],
   "source": [
    "top_8_lstm = []\n",
    "for i in range(len(top_8_results)-2):\n",
    "    dct = top_8_results[i+2]\n",
    "    result = run_char_rnn(filename=\"shakespeare.txt\", model='lstm', n_epochs=len(dct['train_losses']), print_every=100, hidden_size=dct[\"hidden_size\"], n_layers=dct[\"n_layers\"], learning_rate=dct[\"learning_rate\"], chunk_len=200, batch_size=100, shuffle=dct[\"shuffle\"], cuda=True, validation_split=0.2)\n",
    "    top_8_lstm.append(result)\n"
   ]
  },
  {
   "cell_type": "code",
   "execution_count": null,
   "id": "7b37de21-61d3-4e2a-a1e2-2cd3a4ecf23b",
   "metadata": {},
   "outputs": [],
   "source": [
    "sixteen_gru_lstm = top_8_lstm + top_8_results\n",
    "results_with_sums = [\n",
    "    {**d, \"sum_loss\": d[\"final_train_loss\"] + d[\"final_val_loss\"]} for d in sixteen_gru_lstm\n",
    "]\n",
    "sorted_sums = sorted(results_with_sums, key=lambda x: x[\"sum_loss\"])\n",
    "top_8_results_b = sorted_sums[:8]\n",
    "top_8_results_overall = [{k: v for k, v in d.items() if k != \"sum_loss\"} for d in top_8_results_b]"
   ]
  },
  {
   "cell_type": "code",
   "execution_count": null,
   "id": "641e4472-1520-41c8-9a03-a4adcac40ff6",
   "metadata": {},
   "outputs": [],
   "source": [
    "fig, axes = plt.subplots(2, 4, figsize=(20, 10))  \n",
    "for i, result in enumerate(top_8_results_overall):\n",
    "    ax = axes[i // 4, i % 4] \n",
    "    epochs = list(range(len(result['train_losses'])))  \n",
    "    val_epochs = list(range(0, len(result['train_losses']), 100))  \n",
    "    ax.plot(epochs, result['train_losses'], label='Train Loss', color='blue')\n",
    "    ax.plot(val_epochs, result['val_losses'], label='Val Loss', color='red', marker='o', linestyle='dashed')\n",
    "    ax.set_title(f\"Model {i+1}\")\n",
    "    ax.set_xlabel(\"Epochs\")\n",
    "    ax.set_ylabel(\"Loss\")\n",
    "    ax.legend()\n",
    "plt.tight_layout()\n",
    "plt.savefig(\"Training vs Validation Loss for Top 8 Models.png\")\n",
    "plt.show()"
   ]
  },
  {
   "cell_type": "code",
   "execution_count": null,
   "id": "08934461-754d-4a37-a911-2385a02baba9",
   "metadata": {},
   "outputs": [],
   "source": [
    "final_train_losses = [dct['final_train_loss'] for dct in top_8_results_overall]\n",
    "final_val_losses = [dct['final_val_loss'] for dct in top_8_results_overall]\n",
    "\n",
    "plt.figure(figsize=(8, 6))\n",
    "plt.scatter(final_train_losses, final_val_losses, c='blue', alpha=0.7)\n",
    "plt.xlabel(\"Final Train Loss\")\n",
    "plt.ylabel(\"Final Validation Loss\")\n",
    "plt.title(\"Final Train Loss vs Final Validation Loss for Top 8 Models\")\n",
    "plt.grid(True)\n",
    "\n",
    "for i, (x, y) in enumerate(zip(final_train_losses, final_val_losses)):\n",
    "    plt.text(x, y, f\"{i+1}\", fontsize=9, ha='right')\n",
    "\n",
    "plt.tight_layout()\n",
    "plt.savefig(\"Final Train Loss vs Final Validation Loss for Top 8 Models.png\")\n",
    "plt.show()"
   ]
  },
  {
   "cell_type": "code",
   "execution_count": null,
   "id": "0f4c4da8-4a3f-4d98-b6bb-5d19d307e568",
   "metadata": {},
   "outputs": [],
   "source": [
    "losses = []\n",
    "for dct in top_8_results_overall:\n",
    "    losses.append(dct['train_losses'])  "
   ]
  },
  {
   "cell_type": "code",
   "execution_count": null,
   "id": "c9a24abd-a7c8-4411-9e08-de364aaec9d1",
   "metadata": {},
   "outputs": [],
   "source": [
    "def calculate_perplexity(loss):\n",
    "    loss = np.array(loss)\n",
    "    perplexity = np.exp(loss)\n",
    "    return perplexity"
   ]
  },
  {
   "cell_type": "code",
   "execution_count": null,
   "id": "0d9c071f-1926-4777-9af4-fa5d05c6c721",
   "metadata": {},
   "outputs": [],
   "source": [
    "perplexities = []\n",
    "for loss in losses:\n",
    "    perplexities.append(calculate_perplexity(loss))"
   ]
  },
  {
   "cell_type": "code",
   "execution_count": null,
   "id": "b5c11bd5-c5ba-4fa9-8e40-58f0df093a44",
   "metadata": {},
   "outputs": [],
   "source": [
    "plt.figure(figsize = (8,6))\n",
    "for i, result in enumerate(top_8_results_overall):\n",
    "    perplexity_val = perplexities[i]\n",
    "    epochs = list(range(1, len(result['train_losses']) + 1))\n",
    "    plt.plot(epochs, perplexity_val, color = 'blue', alpha=0.7)\n",
    "plt.xlabel(\"Epochs\")\n",
    "plt.ylabel(\"Perplexity\")\n",
    "plt.title(\"Perplexity over Time of Top 8 Models\")\n",
    "plt.tight_layout()\n",
    "plt.savefig(\"Perplexity over Epochs.png\")\n",
    "plt.show()"
   ]
  },
  {
   "cell_type": "code",
   "execution_count": null,
   "id": "d3fa3064-cebd-4947-958f-35959a882137",
   "metadata": {},
   "outputs": [],
   "source": [
    "checkpoint_paths = []\n",
    "for results in top_8_results_overall:\n",
    "    save_loc = (\n",
    "        f\"shakespeare_{results['model_type']}_h{results['hidden_size']}_l{results['n_layers']}\"\n",
    "        f\"_shuf{results['shuffle']}_lr{results['learning_rate']}_e{len(results['train_losses'])}.pt\"\n",
    "    )\n",
    "    checkpoint_paths.append(save_loc)\n",
    "\n",
    "for path in checkpoint_paths:\n",
    "    print(path)"
   ]
  },
  {
   "cell_type": "code",
   "execution_count": null,
   "id": "a8c89a8f-5fea-422e-b6e5-cb1b6c0c6555",
   "metadata": {},
   "outputs": [],
   "source": []
  },
  {
   "cell_type": "code",
   "execution_count": null,
   "id": "cd20dc95-634b-46e2-8204-4900e7ef5bc0",
   "metadata": {},
   "outputs": [],
   "source": []
  }
 ],
 "metadata": {
  "kernelspec": {
   "display_name": "Python 3 (ipykernel)",
   "language": "python",
   "name": "python3"
  },
  "language_info": {
   "codemirror_mode": {
    "name": "ipython",
    "version": 3
   },
   "file_extension": ".py",
   "mimetype": "text/x-python",
   "name": "python",
   "nbconvert_exporter": "python",
   "pygments_lexer": "ipython3",
   "version": "3.11.9"
  }
 },
 "nbformat": 4,
 "nbformat_minor": 5
}
